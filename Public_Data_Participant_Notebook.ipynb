{
 "cells": [
  {
   "cell_type": "markdown",
   "id": "dd62030b-0db1-4136-ab91-1d08928dcfb2",
   "metadata": {},
   "source": [
    "# Irrational Capital Participant Notebook\n",
    "\n",
    "## Public Data Exploration\n",
    "\n",
    "The purpose of this notebook is to give the participant a chance to work with a small subset of our (non-proprietary) human capital data. This data is employee ratings pulled from glassdoor by our data aggregation partner Thinknum. After gaining an uderstanding of the data, we will implement and test a naive investment strategy using this data. The participant is encouraged to try out other strategies and test them against the returns data provided. \n",
    "\n",
    "Begin by reading in the data from github"
   ]
  },
  {
   "cell_type": "code",
   "execution_count": null,
   "id": "66c0b279-c61d-4bf8-bbd5-0d802e3735aa",
   "metadata": {},
   "outputs": [],
   "source": [
    "import pandas as pd\n",
    "import plotly.express as px"
   ]
  },
  {
   "cell_type": "code",
   "execution_count": null,
   "id": "57071714-c19e-4c21-a8b5-b15097afc431",
   "metadata": {},
   "outputs": [],
   "source": [
    "# read data back in from github\n",
    "gd = pd.read_csv('https://raw.githubusercontent.com/IrrationalCapital/DeepFin/main/glassdoor_DeepFin_sample.csv')"
   ]
  },
  {
   "cell_type": "markdown",
   "id": "0869dcd3-b57b-443c-b71a-5c8052d5597c",
   "metadata": {},
   "source": [
    "### Exploration of the Public Data\n",
    "\n",
    "Basic EDA of the public data - similar to what we did with the private data."
   ]
  },
  {
   "cell_type": "code",
   "execution_count": null,
   "id": "96d620a0-3b21-46b2-a7e1-7539d7c93cae",
   "metadata": {},
   "outputs": [],
   "source": [
    "# define Trade Year as Survey Year + 1 then get list of all columns\n",
    "gd['TradeYear'] = gd['SurveyYear']+1\n",
    "gd.columns"
   ]
  },
  {
   "cell_type": "code",
   "execution_count": null,
   "id": "7250dab4-6f85-4acb-850d-ce70a901e17e",
   "metadata": {},
   "outputs": [],
   "source": [
    "# look at an example row\n",
    "pd.set_option('display.max_rows',75)\n",
    "gd.sample(1,random_state = 34).T"
   ]
  },
  {
   "cell_type": "code",
   "execution_count": null,
   "id": "05562223-cd7e-413c-b90b-a38a78218d03",
   "metadata": {},
   "outputs": [],
   "source": [
    "rating_cols = gd.columns[gd.columns.str.match('Rating:')]\n",
    "fig = px.bar(gd[rating_cols].count(), title = 'Number of Ratings Per Category',height = 400)\n",
    "fig.update_layout(showlegend = False,xaxis_title=None,yaxis_title=None)\n",
    "fig.show()"
   ]
  },
  {
   "cell_type": "code",
   "execution_count": null,
   "id": "b973590f-1b2a-4454-8ba0-6aa6ac8573fc",
   "metadata": {},
   "outputs": [],
   "source": [
    "figdat3 = (gd.reset_index()\n",
    "          .melt(value_vars = rating_cols)\n",
    "          .rename(columns = {'value':'Rating','variable':'Total Responses'})\n",
    "          .groupby('Rating')\n",
    "          .count())\n",
    "fig = px.bar(figdat3,y = 'Total Responses',title = 'Distribution of Glassdoor Ratings')\n",
    "fig.update_layout(showlegend = False,xaxis_title=None)\n",
    "fig.show()"
   ]
  },
  {
   "cell_type": "code",
   "execution_count": null,
   "id": "37fdfe90-9afc-420b-a39f-4001979a5c49",
   "metadata": {},
   "outputs": [],
   "source": [
    "figdat4 = (gd.melt(value_vars = rating_cols)\n",
    "          .rename(columns = {'value':'Rating','variable':'Category'})\n",
    "          .groupby(['Category','Rating'])\n",
    "          .size()\n",
    "          .rename('Total Responses')\n",
    "          .to_frame()\n",
    "          .reset_index())\n",
    "fig = px.bar(figdat4,x = 'Rating',y = 'Total Responses',facet_col = 'Category',facet_col_wrap = 3,height = 500,\n",
    "            title = 'Rating Distribution by Category')\n",
    "fig.for_each_annotation(lambda a: a.update(text=a.text.split(\"=\")[-1]))\n",
    "fig.show()"
   ]
  },
  {
   "cell_type": "code",
   "execution_count": null,
   "id": "8ff46a6f-8eba-42f8-975b-5c8e69d5da46",
   "metadata": {},
   "outputs": [],
   "source": [
    "plotdat = gd[sorted(rating_cols)].dropna(axis = 0, how='all').dropna(axis = 1, how = 'all').corr()\n",
    "for i,r in enumerate(plotdat.index):\n",
    "    for j,c in enumerate(plotdat.columns):\n",
    "        if i < j:\n",
    "            plotdat.loc[r,c] = None\n",
    "\n",
    "px.imshow(plotdat\n",
    "          ,height = 800,color_continuous_scale='Portland'\n",
    "          ,title = 'Correlation Between Ratings')"
   ]
  },
  {
   "cell_type": "markdown",
   "id": "e717521a-158a-4315-979c-753a36bddc09",
   "metadata": {},
   "source": [
    "### Incorporate Returns\n",
    "\n",
    "Next we'll bring in the return stream for the public data and test a naive strategy based on this data. "
   ]
  },
  {
   "cell_type": "code",
   "execution_count": null,
   "id": "0dd771ab-ab20-431b-9130-57c5684c99b5",
   "metadata": {},
   "outputs": [],
   "source": [
    "# read data back in from github\n",
    "ret = pd.read_csv('https://raw.githubusercontent.com/IrrationalCapital/DeepFin/main/glassdoor_DeepFin_returns.csv')\n",
    "ret.head(10)"
   ]
  },
  {
   "cell_type": "code",
   "execution_count": null,
   "id": "fd4760b0-1b29-492a-86a4-e583af29593d",
   "metadata": {},
   "outputs": [],
   "source": [
    "def run_strategy(ret, top_asset_ids):\n",
    "  ret['strat'] = 'Bottom Half'\n",
    "  ret.loc[ret.AssetID.isin(top_asset_ids),'strat'] = 'Top Half'\n",
    "  ret1 = ret.groupby(['strat','Date'])['Close'].sum().reset_index().sort_values('Date')\n",
    "  ret1['DayChange'] = (ret1.groupby('strat')['Close'].pct_change() + 1).fillna(1)\n",
    "  ret1['Return'] = (ret1.groupby('strat')['DayChange'].cumprod())-1\n",
    "\n",
    "  return ret1"
   ]
  },
  {
   "cell_type": "code",
   "execution_count": null,
   "id": "78ca96c7-3096-43dd-9cf7-6c0c69dd59e1",
   "metadata": {},
   "outputs": [],
   "source": [
    "gdm = gd.melt(id_vars = ['AssetID'], value_vars = gd.columns[gd.columns.str.match('Rating')])\n",
    "ar = gdm.groupby(['AssetID'])['value'].agg(['mean'])\n",
    "ar['rank'] = ar['mean'].rank(ascending = False,pct = True)\n",
    "ar = ar.reset_index()\n",
    "ro_top = ar.loc[ar['rank'] < .5,'AssetID']"
   ]
  },
  {
   "cell_type": "code",
   "execution_count": null,
   "id": "3a4cadf6-d2dd-4322-b7f8-79c33995b13f",
   "metadata": {},
   "outputs": [],
   "source": [
    "strat1 = run_strategy(ret,ro_top)\n",
    "strat1 = strat1.rename(columns = {'strat':'Mean Overall Rating'})\n",
    "fig = px.line(strat1,x='Date',y='Return',color = 'Mean Overall Rating'\n",
    "              ,title = 'Performance of Top Half vs Bottom Half by Overall Rating')\n",
    "fig.update_layout(yaxis_tickformat=',.0%',xaxis_title=None\n",
    "                  ,legend={'orientation':\"h\",'yanchor':\"bottom\", 'y':-.35, 'xanchor':'center', 'x':.5})"
   ]
  },
  {
   "cell_type": "code",
   "execution_count": null,
   "id": "66531c64-5f79-4067-9855-4f7fcc01d93e",
   "metadata": {},
   "outputs": [],
   "source": []
  }
 ],
 "metadata": {
  "kernelspec": {
   "display_name": "Python 3",
   "language": "python",
   "name": "python3"
  },
  "language_info": {
   "codemirror_mode": {
    "name": "ipython",
    "version": 3
   },
   "file_extension": ".py",
   "mimetype": "text/x-python",
   "name": "python",
   "nbconvert_exporter": "python",
   "pygments_lexer": "ipython3",
   "version": "3.8.8"
  }
 },
 "nbformat": 4,
 "nbformat_minor": 5
}
